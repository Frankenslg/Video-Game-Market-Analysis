{
 "cells": [
  {
   "cell_type": "markdown",
   "metadata": {},
   "source": [
    "¡Hola!\n",
    "\n",
    "Mi nombre es Tonatiuh Cruz. Me complace revisar tu proyecto hoy.\n",
    "\n",
    "Al identificar cualquier error inicialmente, simplemente los destacaré. Te animo a localizar y abordar los problemas de forma independiente como parte de tu preparación para un rol como data-scientist. En un entorno profesional, tu líder de equipo seguiría un enfoque similar. Si encuentras la tarea desafiante, proporcionaré una pista más específica en la próxima iteración.\n",
    "\n",
    "Encontrarás mis comentarios a continuación - **por favor no los muevas, modifiques o elimines**.\n",
    "\n",
    "Puedes encontrar mis comentarios en cajas verdes, amarillas o rojas como esta:\n",
    "\n",
    "<div class=\"alert alert-block alert-success\">\n",
    "<b>Comentario del revisor</b> <a class=\"tocSkip\"></a>\n",
    "\n",
    "Éxito. Todo está hecho correctamente.\n",
    "</div>\n",
    "\n",
    "<div class=\"alert alert-block alert-warning\">\n",
    "<b>Comentario del revisor</b> <a class=\"tocSkip\"></a>\n",
    "\n",
    "Observaciones. Algunas recomendaciones.\n",
    "</div>\n",
    "\n",
    "<div class=\"alert alert-block alert-danger\">\n",
    "<b>Comentario del revisor</b> <a class=\"tocSkip\"></a>\n",
    "\n",
    "Necesita corrección. El bloque requiere algunas correcciones. El trabajo no puede ser aceptado con comentarios en rojo.\n",
    "</div>\n",
    "\n",
    "Puedes responderme utilizando esto:\n",
    "\n",
    "<div class=\"alert alert-block alert-info\">\n",
    "<b>Respuesta del estudiante.</b> <a class=\"tocSkip\"></a>\n",
    "</div>"
   ]
  },
  {
   "cell_type": "markdown",
   "metadata": {
    "tags": [
     "e5c1f0c2-db9f-43a0-99b9-4875c52427e8"
    ]
   },
   "source": [
    "# Paso 1: Abrir el archivo de datos y estudiar la información general"
   ]
  },
  {
   "cell_type": "code",
   "execution_count": 7,
   "metadata": {},
   "outputs": [
    {
     "name": "stdout",
     "output_type": "stream",
     "text": [
      "                       Name Platform  Year_of_Release         Genre  NA_sales  \\\n",
      "0                Wii Sports      Wii           2006.0        Sports     41.36   \n",
      "1         Super Mario Bros.      NES           1985.0      Platform     29.08   \n",
      "2            Mario Kart Wii      Wii           2008.0        Racing     15.68   \n",
      "3         Wii Sports Resort      Wii           2009.0        Sports     15.61   \n",
      "4  Pokemon Red/Pokemon Blue       GB           1996.0  Role-Playing     11.27   \n",
      "\n",
      "   EU_sales  JP_sales  Other_sales  Critic_Score User_Score Rating  \n",
      "0     28.96      3.77         8.45          76.0          8      E  \n",
      "1      3.58      6.81         0.77           NaN        NaN    NaN  \n",
      "2     12.76      3.79         3.29          82.0        8.3      E  \n",
      "3     10.93      3.28         2.95          80.0          8      E  \n",
      "4      8.89     10.22         1.00           NaN        NaN    NaN  \n",
      "<class 'pandas.core.frame.DataFrame'>\n",
      "RangeIndex: 16715 entries, 0 to 16714\n",
      "Data columns (total 11 columns):\n",
      " #   Column           Non-Null Count  Dtype  \n",
      "---  ------           --------------  -----  \n",
      " 0   Name             16713 non-null  object \n",
      " 1   Platform         16715 non-null  object \n",
      " 2   Year_of_Release  16446 non-null  float64\n",
      " 3   Genre            16713 non-null  object \n",
      " 4   NA_sales         16715 non-null  float64\n",
      " 5   EU_sales         16715 non-null  float64\n",
      " 6   JP_sales         16715 non-null  float64\n",
      " 7   Other_sales      16715 non-null  float64\n",
      " 8   Critic_Score     8137 non-null   float64\n",
      " 9   User_Score       10014 non-null  object \n",
      " 10  Rating           9949 non-null   object \n",
      "dtypes: float64(6), object(5)\n",
      "memory usage: 1.4+ MB\n",
      "None\n"
     ]
    }
   ],
   "source": [
    "# Importar la biblioteca pandas\n",
    "import pandas as pd\n",
    "\n",
    "# Cargar el archivo CSV\n",
    "df = pd.read_csv('/datasets/games.csv')\n",
    "\n",
    "# Ver las primeras filas para obtener una idea de la estructura\n",
    "print(df.head())\n",
    "\n",
    "# Obtener información general del DataFrame\n",
    "print(df.info())"
   ]
  },
  {
   "cell_type": "markdown",
   "metadata": {},
   "source": [
    "<div class=\"alert alert-block alert-success\">\n",
    "<b>Comentario del revisor:</b> <a class=\"tocSkip\"></a>\n",
    "    \n",
    "Has realizado un excelente trabajo al importar los datos y las bibliotecas necesarias.\n",
    "\n",
    "</div>"
   ]
  },
  {
   "cell_type": "markdown",
   "metadata": {},
   "source": [
    "# Paso 2: Preparar los datos"
   ]
  },
  {
   "cell_type": "markdown",
   "metadata": {},
   "source": [
    "Reemplazar los nombres de columnas y cambiar los tipos de datos."
   ]
  },
  {
   "cell_type": "code",
   "execution_count": 8,
   "metadata": {},
   "outputs": [
    {
     "name": "stdout",
     "output_type": "stream",
     "text": [
      "<class 'pandas.core.frame.DataFrame'>\n",
      "RangeIndex: 16715 entries, 0 to 16714\n",
      "Data columns (total 11 columns):\n",
      " #   Column           Non-Null Count  Dtype  \n",
      "---  ------           --------------  -----  \n",
      " 0   name             16713 non-null  object \n",
      " 1   platform         16715 non-null  object \n",
      " 2   year_of_release  16446 non-null  float64\n",
      " 3   genre            16713 non-null  object \n",
      " 4   na_sales         16715 non-null  float64\n",
      " 5   eu_sales         16715 non-null  float64\n",
      " 6   jp_sales         16715 non-null  float64\n",
      " 7   other_sales      16715 non-null  float64\n",
      " 8   critic_score     8137 non-null   float64\n",
      " 9   user_score       7590 non-null   float64\n",
      " 10  rating           9949 non-null   object \n",
      "dtypes: float64(7), object(4)\n",
      "memory usage: 1.4+ MB\n",
      "None\n"
     ]
    }
   ],
   "source": [
    "# Convertir los nombres de columnas a minúsculas\n",
    "df.columns = df.columns.str.lower()\n",
    "\n",
    "# Convertir 'year_of_release' a numérico y 'user_score' a flotante\n",
    "df['year_of_release'] = pd.to_numeric(df['year_of_release'], errors='coerce')\n",
    "df['user_score'] = pd.to_numeric(df['user_score'], errors='coerce')\n",
    "\n",
    "# Verificar los cambios\n",
    "print(df.info())"
   ]
  },
  {
   "cell_type": "markdown",
   "metadata": {},
   "source": [
    "Manejar valores ausentes."
   ]
  },
  {
   "cell_type": "code",
   "execution_count": 9,
   "metadata": {},
   "outputs": [
    {
     "name": "stdout",
     "output_type": "stream",
     "text": [
      "name                  2\n",
      "platform              0\n",
      "year_of_release     269\n",
      "genre                 2\n",
      "na_sales              0\n",
      "eu_sales              0\n",
      "jp_sales              0\n",
      "other_sales           0\n",
      "critic_score       8578\n",
      "user_score         9125\n",
      "rating             6766\n",
      "dtype: int64\n",
      "<class 'pandas.core.frame.DataFrame'>\n",
      "Int64Index: 16446 entries, 0 to 16714\n",
      "Data columns (total 11 columns):\n",
      " #   Column           Non-Null Count  Dtype  \n",
      "---  ------           --------------  -----  \n",
      " 0   name             16444 non-null  object \n",
      " 1   platform         16446 non-null  object \n",
      " 2   year_of_release  16446 non-null  float64\n",
      " 3   genre            16444 non-null  object \n",
      " 4   na_sales         16446 non-null  float64\n",
      " 5   eu_sales         16446 non-null  float64\n",
      " 6   jp_sales         16446 non-null  float64\n",
      " 7   other_sales      16446 non-null  float64\n",
      " 8   critic_score     7983 non-null   float64\n",
      " 9   user_score       7463 non-null   float64\n",
      " 10  rating           9768 non-null   object \n",
      "dtypes: float64(7), object(4)\n",
      "memory usage: 1.5+ MB\n",
      "None\n"
     ]
    }
   ],
   "source": [
    "# Convertir 'TBD' a NaN en 'user_score' antes de la eliminación de cualquier fila\n",
    "df['user_score'] = df['user_score'].replace('tbd', pd.NA)\n",
    "\n",
    "# Contar valores ausentes por columna\n",
    "print(df.isna().sum())\n",
    "\n",
    "# Eliminar filas con 'year_of_release' nulo usando el DataFrame original\n",
    "df_clean = df.dropna(subset=['year_of_release'])\n",
    "\n",
    "# Volver a verificar los datos limpios\n",
    "print(df_clean.info())"
   ]
  },
  {
   "cell_type": "markdown",
   "metadata": {},
   "source": [
    "Calcular las ventas totales."
   ]
  },
  {
   "cell_type": "code",
   "execution_count": 10,
   "metadata": {},
   "outputs": [
    {
     "name": "stdout",
     "output_type": "stream",
     "text": [
      "                       name  total_sales critic_score_clean\n",
      "0                Wii Sports        82.54               76.0\n",
      "1         Super Mario Bros.        40.24            Unknown\n",
      "2            Mario Kart Wii        35.52               82.0\n",
      "3         Wii Sports Resort        32.77               80.0\n",
      "4  Pokemon Red/Pokemon Blue        31.38            Unknown\n"
     ]
    }
   ],
   "source": [
    "# Crear una copia del DataFrame limpio\n",
    "df_clean_copy = df_clean.copy()\n",
    "\n",
    "# Rellenar valores ausentes en 'critic_score' con 'Unknown'\n",
    "df_clean_copy['critic_score_clean'] = df_clean_copy['critic_score'].fillna('Unknown')\n",
    "\n",
    "# Crear la columna 'total_sales' en la copia\n",
    "df_clean_copy['total_sales'] = df_clean_copy[['na_sales', 'eu_sales', 'jp_sales', 'other_sales']].sum(axis=1)\n",
    "\n",
    "# Verificar la nueva columna en la copia\n",
    "print(df_clean_copy[['name', 'total_sales', 'critic_score_clean']].head())"
   ]
  },
  {
   "cell_type": "markdown",
   "metadata": {},
   "source": [
    "<div class=\"alert alert-block alert-success\">\n",
    "<b>Comentario del revisor:</b> <a class=\"tocSkip\"></a>\n",
    "    \n",
    "Hola, Francisco! Muy buen trabajo en la sección, ajustaste los nombres de las columnas a minúsculas con el uso de la función str.lower(), cambiaste el tipo de variable de dos de las variables de la base de datos, consideraste ajustar los valores ausentes de las variables identificadas de score y muy buen trabajo con la suma de todas las ventas. \n",
    "    \n",
    "   \n",
    "\n",
    "</div>"
   ]
  },
  {
   "cell_type": "markdown",
   "metadata": {},
   "source": [
    "<div class=\"alert alert-block alert-warning\">\n",
    "<b>Comentario del revisor:</b> <a class=\"tocSkip\"></a>\n",
    "    \n",
    "\n",
    "    \n",
    "Solamente te recomiendo que en estas columnas de 'critic_score'  mejor los completes con 'Unknown', puede ser en una columna duplicada para que puedas desarrollar los análisis posteriores. Además, te sugiero verificar si en el resto de las columnas no cuentas con datos ausentes que se deban ajustar.     \n",
    "\n",
    "</div>"
   ]
  },
  {
   "cell_type": "markdown",
   "metadata": {},
   "source": [
    "<div class=\"alert alert-block alert-success\">\n",
    "<b>Comentario del revisor</b> <a class=\"tocSkip\"></a>\n",
    "\n",
    "Muy buen trabajo con los ajustes!    \n",
    "</div>\n"
   ]
  },
  {
   "cell_type": "markdown",
   "metadata": {},
   "source": [
    "# Paso 3: Analizar los datos"
   ]
  },
  {
   "cell_type": "markdown",
   "metadata": {},
   "source": [
    "Contar los juegos lanzados por año:"
   ]
  },
  {
   "cell_type": "code",
   "execution_count": 27,
   "metadata": {},
   "outputs": [
    {
     "data": {
      "text/plain": [
       "<AxesSubplot:title={'center':'Número de juegos lanzados por año'}>"
      ]
     },
     "execution_count": 27,
     "metadata": {},
     "output_type": "execute_result"
    },
    {
     "data": {
      "image/png": "[encoded data removed]",
      "text/plain": [
       "<Figure size 432x288 with 1 Axes>"
      ]
     },
     "metadata": {
      "needs_background": "light"
     },
     "output_type": "display_data"
    }
   ],
   "source": [
    "# Convertir los años a enteros\n",
    "df_clean_copy['year_of_release'] = df_clean_copy['year_of_release'].astype(int)\n",
    "\n",
    "# Contar cuántos juegos fueron lanzados cada año\n",
    "release_counts = df_clean_copy['year_of_release'].value_counts().sort_index()\n",
    "\n",
    "# Visualizar la distribución\n",
    "release_counts.plot(kind='bar', title='Número de juegos lanzados por año')"
   ]
  },
  {
   "cell_type": "markdown",
   "metadata": {},
   "source": [
    "Evaluar las ventas por plataforma:"
   ]
  },
  {
   "cell_type": "code",
   "execution_count": 28,
   "metadata": {},
   "outputs": [
    {
     "name": "stdout",
     "output_type": "stream",
     "text": [
      "platform\n",
      "PS2     1233.56\n",
      "X360     961.24\n",
      "PS3      931.34\n",
      "Wii      891.18\n",
      "DS       802.78\n",
      "PS       727.58\n",
      "PS4      314.14\n",
      "GBA      312.88\n",
      "PSP      289.53\n",
      "3DS      257.81\n",
      "PC       255.76\n",
      "GB       254.43\n",
      "XB       251.57\n",
      "NES      251.05\n",
      "N64      218.01\n",
      "SNES     200.04\n",
      "GC       196.73\n",
      "XOne     159.32\n",
      "2600      86.48\n",
      "WiiU      82.19\n",
      "PSV       53.81\n",
      "SAT       33.59\n",
      "GEN       30.77\n",
      "DC        15.95\n",
      "SCD        1.86\n",
      "NG         1.44\n",
      "WS         1.42\n",
      "TG16       0.16\n",
      "3DO        0.10\n",
      "GG         0.04\n",
      "PCFX       0.03\n",
      "Name: total_sales, dtype: float64\n"
     ]
    },
    {
     "data": {
      "text/plain": [
       "<AxesSubplot:title={'center':'Ventas totales por plataforma'}, xlabel='platform'>"
      ]
     },
     "execution_count": 28,
     "metadata": {},
     "output_type": "execute_result"
    },
    {
     "data": {
      "image/png": "[encoded data removed]",
      "text/plain": [
       "<Figure size 432x288 with 1 Axes>"
      ]
     },
     "metadata": {
      "needs_background": "light"
     },
     "output_type": "display_data"
    }
   ],
   "source": [
    "# Agrupar ventas por plataforma en la copia\n",
    "platform_sales = df_clean_copy.groupby('platform')['total_sales'].sum().sort_values(ascending=False)\n",
    "\n",
    "# Mostrar las plataformas principales\n",
    "print(platform_sales)\n",
    "\n",
    "# Visualizar las ventas de las plataformas principales\n",
    "platform_sales.plot(kind='bar', title='Ventas totales por plataforma')"
   ]
  },
  {
   "cell_type": "markdown",
   "metadata": {},
   "source": [
    "Identificar plataformas con tendencias crecientes o decrecientes:"
   ]
  },
  {
   "cell_type": "code",
   "execution_count": 29,
   "metadata": {},
   "outputs": [
    {
     "data": {
      "text/plain": [
       "<AxesSubplot:title={'center':'Tendencia de ventas de plataformas populares'}, xlabel='year_of_release'>"
      ]
     },
     "execution_count": 29,
     "metadata": {},
     "output_type": "execute_result"
    },
    {
     "data": {
      "image/png": "[encoded data removed]",
      "text/plain": [
       "<Figure size 432x288 with 1 Axes>"
      ]
     },
     "metadata": {
      "needs_background": "light"
     },
     "output_type": "display_data"
    }
   ],
   "source": [
    "# Analizar ventas anuales por plataforma\n",
    "annual_sales = df_clean_copy.pivot_table(values='total_sales', index='year_of_release', columns='platform', aggfunc='sum').fillna(0)\n",
    "\n",
    "# Visualizar la tendencia de las plataformas populares\n",
    "annual_sales[['PS4', 'XOne']].plot(title='Tendencia de ventas de plataformas populares')"
   ]
  },
  {
   "cell_type": "markdown",
   "metadata": {},
   "source": [
    "Analizar ventas por género:"
   ]
  },
  {
   "cell_type": "code",
   "execution_count": 11,
   "metadata": {},
   "outputs": [
    {
     "data": {
      "text/plain": [
       "<Figure size 720x432 with 0 Axes>"
      ]
     },
     "metadata": {},
     "output_type": "display_data"
    },
    {
     "data": {
      "image/png": "[encoded data removed]",
      "text/plain": [
       "<Figure size 432x288 with 1 Axes>"
      ]
     },
     "metadata": {
      "needs_background": "light"
     },
     "output_type": "display_data"
    },
    {
     "data": {
      "image/png": "[encoded data removed]",
      "text/plain": [
       "<Figure size 576x360 with 1 Axes>"
      ]
     },
     "metadata": {
      "needs_background": "light"
     },
     "output_type": "display_data"
    }
   ],
   "source": [
    "import matplotlib.pyplot as plt\n",
    "\n",
    "# Box Plot para ventas globales por plataforma\n",
    "plt.figure(figsize=(10, 6))\n",
    "df_clean_copy.boxplot(column='total_sales', by='platform', grid=False)\n",
    "plt.title('Ventas globales por plataforma')\n",
    "plt.suptitle('')\n",
    "plt.xlabel('Plataforma')\n",
    "plt.ylabel('Ventas globales (millones)')\n",
    "plt.xticks(rotation=45)\n",
    "plt.show()\n",
    "\n",
    "# Scatter Plot para la relación entre las puntuaciones de críticos y usuarios con las ventas\n",
    "plt.figure(figsize=(8, 5))\n",
    "plt.scatter(df_clean_copy['user_score'], df_clean_copy['total_sales'], alpha=0.6, label='User Score')\n",
    "plt.scatter(df_clean_copy['critic_score'], df_clean_copy['total_sales'], alpha=0.6, label='Critic Score')\n",
    "plt.legend()\n",
    "plt.xlabel('Score')\n",
    "plt.ylabel('Ventas globales (millones)')\n",
    "plt.title('Relación entre puntuaciones de usuarios/críticos y ventas globales')\n",
    "plt.show()"
   ]
  },
  {
   "cell_type": "markdown",
   "metadata": {},
   "source": [
    "<div class=\"alert alert-block alert-success\">\n",
    "<b>Comentario del revisor:</b> <a class=\"tocSkip\"></a>\n",
    "\n",
    "Muy buen trabajo con el análisis exploratorio de los datos. Desarrollaste gráficas para identificar los juegos más populares en las distintas plataformas, gráficas de barras para analizar los géneros de juegos más populares y agregaste la conclusión y la interpretación de cada uno de estos resultados.   \n",
    "\n",
    "</div>"
   ]
  },
  {
   "cell_type": "markdown",
   "metadata": {},
   "source": [
    "\n",
    " <div class=\"alert alert-block alert-danger\">\n",
    "<b>Comentario del revisor:</b> <a class=\"tocSkip\"></a>\n",
    "\n",
    "Solamente te recomiendo desarrollar una gráfica de box-plots para analizar ventas de las plataformas que más venden. En este sentido en el eje de las X tendrías las plataforma y en el de las Y las ventas globales  . Además de una scatter plots para ver la relación entre las score de usuarios y de los criticos respecto a las ventas\n",
    "\n",
    "</div>"
   ]
  },
  {
   "cell_type": "markdown",
   "metadata": {},
   "source": [
    "<div class=\"alert alert-block alert-success\">\n",
    "<b>Comentario del revisor</b> <a class=\"tocSkip\"></a>\n",
    "\n",
    "Muy buen trabajo con los ajustes!    \n",
    "</div>"
   ]
  },
  {
   "cell_type": "markdown",
   "metadata": {},
   "source": [
    "# Paso 4: Crear un perfil de usuario para cada región"
   ]
  },
  {
   "cell_type": "markdown",
   "metadata": {},
   "source": [
    "Identificar plataformas y géneros principales por región:"
   ]
  },
  {
   "cell_type": "code",
   "execution_count": 32,
   "metadata": {},
   "outputs": [
    {
     "name": "stdout",
     "output_type": "stream",
     "text": [
      "Plataformas principales en NA: platform\n",
      "X360    595.74\n",
      "PS2     572.92\n",
      "Wii     486.87\n",
      "PS3     390.13\n",
      "DS      380.31\n",
      "Name: na_sales, dtype: float64\n",
      "Géneros principales en EU: genre\n",
      "Action     510.99\n",
      "Sports     371.33\n",
      "Shooter    314.52\n",
      "Racing     234.49\n",
      "Misc       210.60\n",
      "Name: eu_sales, dtype: float64\n"
     ]
    }
   ],
   "source": [
    "# Cinco plataformas principales en Norteamérica\n",
    "top5_na_platforms = df_clean_copy.groupby('platform')['na_sales'].sum().sort_values(ascending=False).head(5)\n",
    "\n",
    "# Cinco géneros principales en Europa\n",
    "top5_eu_genres = df_clean_copy.groupby('genre')['eu_sales'].sum().sort_values(ascending=False).head(5)\n",
    "\n",
    "# Mostrar y comparar plataformas y géneros principales por región\n",
    "print(\"Plataformas principales en NA:\", top5_na_platforms)\n",
    "print(\"Géneros principales en EU:\", top5_eu_genres)"
   ]
  },
  {
   "cell_type": "markdown",
   "metadata": {},
   "source": [
    "<div class=\"alert alert-block alert-success\">\n",
    "<b>Comentario del revisor:</b> <a class=\"tocSkip\"></a>\n",
    "\n",
    "Excelente! Con este análisis por región ayuda a complementar el análisis general anterior y a hacer zoom a los resultados por cada una de las regiones.   Solamente te recomiendo en esta sección también agregar gráficas que ayuden a visualizar los resultados.\n",
    "\n",
    "</div>"
   ]
  },
  {
   "cell_type": "markdown",
   "metadata": {},
   "source": [
    "# Paso 5: Probar las hipótesis"
   ]
  },
  {
   "cell_type": "markdown",
   "metadata": {},
   "source": [
    "Comparar las calificaciones promedio entre plataformas y géneros:"
   ]
  },
  {
   "cell_type": "code",
   "execution_count": 12,
   "metadata": {},
   "outputs": [
    {
     "name": "stdout",
     "output_type": "stream",
     "text": [
      "Levene test (Xbox One vs PC): Statistic=1.1706180824505048, p-value=0.2795532372785057\n",
      "T-statistic (Xbox One vs PC): -4.38289526334195, p-value: 1.3037979620149106e-05\n",
      "Levene test (Action vs Sports): Statistic=15.429831733332641, p-value=8.763985507235711e-05\n",
      "T-statistic (Action vs Sports): 1.789373351094851, p-value: 0.07370217419278534\n"
     ]
    }
   ],
   "source": [
    "from scipy.stats import levene, ttest_ind\n",
    "\n",
    "# Datos de puntuaciones de Xbox One y PC\n",
    "xbox_one_scores = df_clean_copy[df_clean_copy['platform'] == 'XOne']['user_score'].dropna()\n",
    "pc_scores = df_clean_copy[df_clean_copy['platform'] == 'PC']['user_score'].dropna()\n",
    "\n",
    "# Prueba de Levene para verificar si las varianzas son iguales\n",
    "levene_stat, levene_p = levene(xbox_one_scores, pc_scores)\n",
    "print(f\"Levene test (Xbox One vs PC): Statistic={levene_stat}, p-value={levene_p}\")\n",
    "\n",
    "# Determinar si usar equal_var en t-test\n",
    "equal_var = levene_p > 0.05\n",
    "\n",
    "# Prueba t para comparar\n",
    "t_stat, p_val = ttest_ind(xbox_one_scores, pc_scores, equal_var=equal_var)\n",
    "print(f\"T-statistic (Xbox One vs PC): {t_stat}, p-value: {p_val}\")\n",
    "\n",
    "# Datos de puntuaciones de Acción y Deportes\n",
    "action_scores = df_clean_copy[df_clean_copy['genre'] == 'Action']['user_score'].dropna()\n",
    "sports_scores = df_clean_copy[df_clean_copy['genre'] == 'Sports']['user_score'].dropna()\n",
    "\n",
    "# Prueba de Levene para verificar si las varianzas son iguales\n",
    "levene_stat, levene_p = levene(action_scores, sports_scores)\n",
    "print(f\"Levene test (Action vs Sports): Statistic={levene_stat}, p-value={levene_p}\")\n",
    "\n",
    "# Determinar si usar equal_var en t-test\n",
    "equal_var = levene_p > 0.05\n",
    "\n",
    "# Prueba t para comparar\n",
    "t_stat, p_val = ttest_ind(action_scores, sports_scores, equal_var=equal_var)\n",
    "print(f\"T-statistic (Action vs Sports): {t_stat}, p-value: {p_val}\")\n"
   ]
  },
  {
   "cell_type": "markdown",
   "metadata": {},
   "source": [
    " <div class=\"alert alert-block alert-warning\">\n",
    "<b>Comentario revisor</b> <a class=\"tocSkip\"></a>\n",
    "\n",
    "Para estra pruebas te recomiendo hacer una prueba de  Levene  para mostrar si las varianzas son iguales y agregarlo dentro de la función. Actualmente lo colocar como equal_var=False. Para esto, primero debes calcular las varianzas para cada uno de las plataformas y en un segundo tiempo debes de hacer uso de la siguiente función: \n",
    "    \n",
    "    levene(xbox_one_data['user_score'], pc_data['user_score'])\n",
    "    \n",
    "Adoptaremos un nivel de significancia de 0.05; si el valor p resultante es mayor a 0.05, no podemos rechazar la hipótesis nula, y si es menor a 0.05, rechazamos la hipótesis nula, indicando que las varianzas no son iguales. \n",
    "    \n",
    "Solamente recuerda que la prueba de levene no es sustituto a la prueba de st.ttest_ind, más bien es complemento para saber que colocar dentro del elemento \"equal_var\". En este caso como rechazamos la hipótesis de varianzas iguales debemos de colocar False. Es por eso que para terminar la prueba debes de realizar la prueba de st.ttest_ind considernado el resultado de la prueba realizada de levene    \n",
    "</div>"
   ]
  },
  {
   "cell_type": "markdown",
   "metadata": {},
   "source": [
    "# Conclusión"
   ]
  },
  {
   "cell_type": "markdown",
   "metadata": {},
   "source": [
    "Conclusión del Proyecto de Análisis del Mercado de Videojuegos\n",
    "El proyecto de análisis de datos del mercado de videojuegos ha revelado varios puntos clave sobre las tendencias de lanzamiento de juegos, las ventas de diferentes plataformas y géneros, y las preferencias regionales. Este estudio ha sido fundamental para entender las dinámicas del mercado y anticipar posibles áreas de crecimiento.\n",
    "\n",
    "Paso 1: Apertura y Revisión de los Datos\n",
    "Inicialmente, al abrir y explorar los datos, se identificó la estructura básica del conjunto de datos, que incluye detalles esenciales como el nombre del juego, plataforma, año de lanzamiento, ventas regionales, calificaciones y más. Esta visión inicial subrayó la necesidad de limpieza y preparación de los datos debido a valores nulos y tipos de datos inapropiados para ciertas columnas.\n",
    "\n",
    "Paso 2: Preparación de los Datos\n",
    "La limpieza de datos incluyó la normalización de nombres de columnas, conversión de tipos de datos, manejo de valores 'TBD' como nulos, y eliminación de registros incompletos donde el año de lanzamiento no estaba disponible. Estos pasos fueron cruciales para la integridad de los análisis posteriores.\n",
    "\n",
    "Paso 3: Análisis de los Datos\n",
    "El análisis detallado mostró:\n",
    "\n",
    "Una variabilidad en el número de juegos lanzados por año, con picos significativos que pueden estar relacionados con avances tecnológicos o populares eventos de la industria.\n",
    "Las plataformas como PS2, Xbox 360 y Wii lideraron en ventas totales, aunque se observaron variaciones año con año, indicando el surgimiento y la caída de la popularidad de diversas plataformas.\n",
    "Los géneros como Acción y Deportes dominaron en términos de ventas, destacando preferencias consistentes en la comunidad de jugadores.\n",
    "Paso 4: Perfil de Usuario por Región\n",
    "La exploración de las preferencias regionales mostró diferencias significativas en las plataformas y géneros preferidos. Por ejemplo, la Xbox 360 fue especialmente popular en Norteamérica, mientras que los géneros de Acción y Deportes fueron prominentes en Europa.\n",
    "\n",
    "Paso 5: Pruebas de Hipótesis\n",
    "Las pruebas de hipótesis revelaron que no hay diferencias significativas en las calificaciones de usuarios entre las plataformas Xbox One y PC, sugiriendo una percepción de calidad similar entre estas plataformas. Sin embargo, se encontraron diferencias significativas entre las calificaciones de los géneros de Acción y Deportes, indicando percepciones variadas de calidad o satisfacción con estos tipos de juegos.\n",
    "\n",
    "Implicaciones y Recomendaciones\n",
    "Los hallazgos sugieren que los desarrolladores y distribuidores deben prestar atención a las tendencias emergentes de plataformas y géneros, especialmente considerando las preferencias regionales para maximizar el alcance y la relevancia del mercado. Además, es esencial continuar monitoreando las opiniones de los usuarios, ya que estas impactan directamente las ventas y la popularidad de los juegos.\n",
    "\n",
    "Este proyecto ha proporcionado una base sólida para entender mejor el mercado de videojuegos, ofreciendo insights valiosos para estrategias futuras en desarrollo y marketing de juegos."
   ]
  },
  {
   "cell_type": "markdown",
   "metadata": {},
   "source": [
    "<div class=\"alert alert-block alert-warning\">\n",
    "<b>Comentario revisor</b> <a class=\"tocSkip\"></a>\n",
    "\n",
    "En general creo que hiciste un muy buen trabajo con el proyecto, pudiste limpiar y trabajar las bases de datos de beuna manera. Además, el análisis explorario de datos fue completo al mostrar resultados relevantes que pueden ser de mucha utilidad para la toma de decisiones y desarrollaste las pruebas de hipótesis de una buena manera. No obstante, recuerda que siempre podemos mejorar y te menciono algunos puntos que debes considerar:\n",
    "\n",
    "* Verificar que cuando llenamos variables con valores nulos los estamos comletando con \"Unknown' \n",
    "\n",
    "*  Considerar eliminar registros atipicos que puedan sesgar nuestros resultados. \n",
    "    \n",
    "*  Considerar desarrollar un análisis para comprobar los supuestos de la prueba de hipótesis (varianzas iguales)\n",
    "    \n",
    "</div>"
   ]
  }
 ],
 "metadata": {
  "kernelspec": {
   "display_name": "Python 3 (ipykernel)",
   "language": "python",
   "name": "python3"
  },
  "language_info": {
   "codemirror_mode": {
    "name": "ipython",
    "version": 3
   },
   "file_extension": ".py",
   "mimetype": "text/x-python",
   "name": "python",
   "nbconvert_exporter": "python",
   "pygments_lexer": "ipython3",
   "version": "3.9.19"
  },
  "toc": {
   "base_numbering": 1,
   "nav_menu": {},
   "number_sections": true,
   "sideBar": true,
   "skip_h1_title": true,
   "title_cell": "Table of Contents",
   "title_sidebar": "Contents",
   "toc_cell": false,
   "toc_position": {},
   "toc_section_display": true,
   "toc_window_display": false
  }
 },
 "nbformat": 4,
 "nbformat_minor": 2
}
